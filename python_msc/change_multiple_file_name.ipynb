{
 "cells": [
  {
   "cell_type": "code",
   "execution_count": 8,
   "source": [
    "import os\r\n",
    "\r\n",
    "#define file path\r\n",
    "filepath = 'F:\\\\lgcy_desktop\\\\New folder_1'\r\n",
    "\r\n",
    "#change the current working directory to specified path\r\n",
    "os.chdir(filepath)\r\n",
    "print(os.getcwd())\r\n",
    "\r\n",
    "for count, f in enumerate(os.listdir()):\r\n",
    "    #print(count)\r\n",
    "    f_name, f_ext = os.path.splitext(f)\r\n",
    "    f_name = \"lgcy_txt {}\".format(count)\r\n",
    "    if bool(f_ext):\r\n",
    "        new_name = f'{f_name}{f_ext}'\r\n",
    "    if not bool(f_ext):\r\n",
    "        f_ext = '.txt'\r\n",
    "        new_name = f'{f_name}{f_ext}'\r\n",
    "    os.rename(f, new_name)\r\n",
    "\r\n",
    "print(count+1)"
   ],
   "outputs": [
    {
     "output_type": "stream",
     "name": "stdout",
     "text": [
      "F:\\lgcy_desktop\\New folder_1\n",
      "138\n"
     ]
    }
   ],
   "metadata": {}
  }
 ],
 "metadata": {
  "orig_nbformat": 4,
  "language_info": {
   "name": "python",
   "version": "3.8.10",
   "mimetype": "text/x-python",
   "codemirror_mode": {
    "name": "ipython",
    "version": 3
   },
   "pygments_lexer": "ipython3",
   "nbconvert_exporter": "python",
   "file_extension": ".py"
  },
  "kernelspec": {
   "name": "python3",
   "display_name": "Python 3.8.10 64-bit ('tf2_gpu': conda)"
  },
  "interpreter": {
   "hash": "b53974051e1a950c2cc4d754aa4a76bed398d53900ac3964926d539f65c8ad3f"
  }
 },
 "nbformat": 4,
 "nbformat_minor": 2
}