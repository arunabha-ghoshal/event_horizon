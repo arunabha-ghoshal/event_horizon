{
  "nbformat": 4,
  "nbformat_minor": 0,
  "metadata": {
    "colab": {
      "name": "Untitled3.ipynb",
      "provenance": [],
      "authorship_tag": "ABX9TyPeK6lkSuoBDsne3fAezei4",
      "include_colab_link": true
    },
    "kernelspec": {
      "name": "python3",
      "display_name": "Python 3"
    },
    "language_info": {
      "name": "python"
    }
  },
  "cells": [
    {
      "cell_type": "markdown",
      "metadata": {
        "id": "view-in-github",
        "colab_type": "text"
      },
      "source": [
        "<a href=\"https://colab.research.google.com/github/arunabha-ghoshal/event_horizon/blob/kaggle_siim_covid/data_download.ipynb\" target=\"_parent\"><img src=\"https://colab.research.google.com/assets/colab-badge.svg\" alt=\"Open In Colab\"/></a>"
      ]
    },
    {
      "cell_type": "code",
      "metadata": {
        "id": "m1L4iH3SfvJF"
      },
      "source": [
        "import os\n",
        "os.environ['KAGGLE_CONFIG_DIR']='/content'"
      ],
      "execution_count": null,
      "outputs": []
    },
    {
      "cell_type": "code",
      "metadata": {
        "colab": {
          "base_uri": "https://localhost:8080/"
        },
        "id": "O1X1Gi0_gRMw",
        "outputId": "f91d6959-3a92-408c-d340-78bcdc03ed99"
      },
      "source": [
        "!kaggle competitions download -c siim-covid19-detection"
      ],
      "execution_count": null,
      "outputs": [
        {
          "output_type": "stream",
          "text": [
            "Warning: Your Kaggle API key is readable by other users on this system! To fix this, you can run 'chmod 600 /content/kaggle.json'\n",
            "Warning: Looks like you're using an outdated API Version, please consider updating (server 1.5.12 / client 1.5.4)\n",
            "Downloading 390ce1f029e7.dcm.zip to /content\n",
            " 66% 7.00M/10.6M [00:00<00:00, 62.6MB/s]\n",
            "100% 10.6M/10.6M [00:00<00:00, 51.8MB/s]\n",
            "Downloading bb4b1da810f3.dcm.zip to /content\n",
            " 54% 6.00M/11.2M [00:00<00:00, 62.2MB/s]\n",
            "100% 11.2M/11.2M [00:00<00:00, 71.3MB/s]\n",
            "Downloading 1df3e98f79be.dcm.zip to /content\n",
            "  0% 0.00/6.00M [00:00<?, ?B/s]\n",
            "100% 6.00M/6.00M [00:00<00:00, 55.0MB/s]\n",
            "Downloading 12a2dfb55b6f.dcm.zip to /content\n",
            " 51% 8.00M/15.8M [00:00<00:00, 81.1MB/s]\n",
            "100% 15.8M/15.8M [00:00<00:00, 101MB/s] \n",
            "Downloading ad8d4a5ba8f0.dcm.zip to /content\n",
            " 54% 9.00M/16.7M [00:00<00:00, 70.0MB/s]\n",
            "100% 16.7M/16.7M [00:00<00:00, 77.5MB/s]\n",
            "Downloading 09cf9767a7bf.dcm.zip to /content\n",
            " 45% 5.00M/11.1M [00:00<00:00, 29.7MB/s]\n",
            "100% 11.1M/11.1M [00:00<00:00, 54.6MB/s]\n",
            "Downloading bcd2179fa24e.dcm.zip to /content\n",
            "  0% 0.00/4.89M [00:00<?, ?B/s]\n",
            "100% 4.89M/4.89M [00:00<00:00, 44.7MB/s]\n",
            "Downloading 51759b5579bc.dcm.zip to /content\n",
            " 72% 9.00M/12.5M [00:00<00:00, 93.7MB/s]\n",
            "100% 12.5M/12.5M [00:00<00:00, 79.3MB/s]\n",
            "Downloading b81969467c6b.dcm.zip to /content\n",
            "  0% 0.00/5.73M [00:00<?, ?B/s]\n",
            "100% 5.73M/5.73M [00:00<00:00, 51.8MB/s]\n",
            "Downloading bf1f75117093.dcm.zip to /content\n",
            "  0% 0.00/7.46M [00:00<?, ?B/s]\n",
            "100% 7.46M/7.46M [00:00<00:00, 68.7MB/s]\n",
            "Downloading 3019399c31f4.dcm.zip to /content\n",
            " 43% 5.00M/11.6M [00:00<00:00, 51.3MB/s]\n",
            "100% 11.6M/11.6M [00:00<00:00, 74.0MB/s]\n",
            "Downloading f6293b1c49e2.dcm.zip to /content\n",
            "  0% 0.00/8.97M [00:00<?, ?B/s]\n",
            "100% 8.97M/8.97M [00:00<00:00, 80.2MB/s]\n",
            "Downloading 136af218f8df.dcm.zip to /content\n",
            " 65% 7.00M/10.8M [00:00<00:00, 56.7MB/s]\n",
            "100% 10.8M/10.8M [00:00<00:00, 52.0MB/s]\n",
            "Downloading 92552b44c70c.dcm.zip to /content\n",
            " 93% 14.0M/15.0M [00:00<00:00, 50.7MB/s]\n",
            "100% 15.0M/15.0M [00:00<00:00, 59.4MB/s]\n",
            "Downloading 45742200dd51.dcm.zip to /content\n",
            "  0% 0.00/9.27M [00:00<?, ?B/s]\n",
            "100% 9.27M/9.27M [00:00<00:00, 81.7MB/s]\n",
            "Downloading 65761e66de9f.dcm.zip to /content\n",
            " 79% 7.00M/8.85M [00:00<00:00, 71.8MB/s]\n",
            "100% 8.85M/8.85M [00:00<00:00, 81.4MB/s]\n",
            "Downloading 3fadf4b48db3.dcm to /content\n",
            " 51% 9.00M/17.8M [00:00<00:00, 30.6MB/s]\n",
            "100% 17.8M/17.8M [00:00<00:00, 44.3MB/s]\n",
            "Downloading 7e7d3afebf5d.dcm.zip to /content\n",
            "  0% 0.00/2.62M [00:00<?, ?B/s]\n",
            "100% 2.62M/2.62M [00:00<00:00, 86.2MB/s]\n",
            "Downloading 74077a8e3b7c.dcm.zip to /content\n",
            " 55% 5.00M/9.08M [00:00<00:00, 43.4MB/s]\n",
            "100% 9.08M/9.08M [00:00<00:00, 56.1MB/s]\n",
            "Downloading 6534a837497d.dcm.zip to /content\n",
            "  0% 0.00/9.08M [00:00<?, ?B/s]\n",
            "100% 9.08M/9.08M [00:00<00:00, 83.4MB/s]\n",
            "Downloading b98508598396.dcm.zip to /content\n",
            " 98% 9.00M/9.21M [00:00<00:00, 38.7MB/s]\n",
            "100% 9.21M/9.21M [00:00<00:00, 36.5MB/s]\n",
            "Downloading 5b8ee5baa1d5.dcm.zip to /content\n",
            "100% 5.00M/5.00M [00:00<00:00, 51.6MB/s]\n",
            "100% 5.00M/5.00M [00:00<00:00, 45.9MB/s]\n",
            "Downloading 0cccb1eca1fc.dcm.zip to /content\n",
            "  0% 0.00/2.22M [00:00<?, ?B/s]\n",
            "100% 2.22M/2.22M [00:00<00:00, 149MB/s]\n",
            "Downloading ad98af65ad2a.dcm.zip to /content\n",
            " 70% 11.0M/15.8M [00:00<00:00, 32.4MB/s]\n",
            "100% 15.8M/15.8M [00:00<00:00, 45.5MB/s]\n",
            "Downloading cea591e99b8a.dcm.zip to /content\n",
            "  0% 0.00/8.20M [00:00<?, ?B/s]\n",
            "100% 8.20M/8.20M [00:00<00:00, 75.3MB/s]\n",
            "Downloading c39146cbda47.dcm.zip to /content\n",
            " 88% 13.0M/14.8M [00:00<00:00, 32.2MB/s]\n",
            "100% 14.8M/14.8M [00:00<00:00, 33.3MB/s]\n",
            "Downloading e92b08b5a77c.dcm.zip to /content\n",
            " 84% 8.00M/9.55M [00:00<00:00, 80.6MB/s]\n",
            "100% 9.55M/9.55M [00:00<00:00, 85.3MB/s]\n",
            "Downloading 53b4af5b74d7.dcm.zip to /content\n",
            " 41% 5.00M/12.1M [00:00<00:00, 48.9MB/s]\n",
            "100% 12.1M/12.1M [00:00<00:00, 72.3MB/s]\n",
            "Downloading af7d1bd1d629.dcm.zip to /content\n",
            " 28% 6.00M/21.3M [00:00<00:00, 57.6MB/s]\n",
            "100% 21.3M/21.3M [00:00<00:00, 103MB/s] \n",
            "Downloading fec0249d70e4.dcm to /content\n",
            "  0% 0.00/7.72M [00:00<?, ?B/s]\n",
            "100% 7.72M/7.72M [00:00<00:00, 71.1MB/s]\n",
            "Downloading f6ba3df9a8be.dcm.zip to /content\n",
            " 73% 16.0M/21.9M [00:00<00:00, 69.4MB/s]\n",
            "100% 21.9M/21.9M [00:00<00:00, 83.8MB/s]\n",
            "Downloading 5e0e7acd9c7d.dcm.zip to /content\n",
            " 43% 5.00M/11.5M [00:00<00:00, 42.3MB/s]\n",
            "100% 11.5M/11.5M [00:00<00:00, 69.4MB/s]\n",
            "Downloading 5af15b21333b.dcm.zip to /content\n",
            " 65% 9.00M/13.8M [00:00<00:00, 87.6MB/s]\n",
            "100% 13.8M/13.8M [00:00<00:00, 87.2MB/s]\n",
            "Downloading 3dcdfc352a06.dcm.zip to /content\n",
            " 45% 5.00M/11.2M [00:00<00:00, 35.1MB/s]\n",
            "100% 11.2M/11.2M [00:00<00:00, 54.2MB/s]\n",
            "Downloading 26fa9834387e.dcm.zip to /content\n",
            " 76% 6.00M/7.88M [00:00<00:00, 37.3MB/s]\n",
            "100% 7.88M/7.88M [00:00<00:00, 38.5MB/s]\n",
            "Downloading 51635cbfbe18.dcm.zip to /content\n",
            " 77% 9.00M/11.6M [00:00<00:00, 16.1MB/s]\n",
            "100% 11.6M/11.6M [00:00<00:00, 21.4MB/s]\n",
            "Downloading 6c42a41a6c6e.dcm.zip to /content\n",
            " 29% 5.00M/17.3M [00:00<00:00, 42.7MB/s]\n",
            "100% 17.3M/17.3M [00:00<00:00, 82.7MB/s]\n",
            "Downloading 695e2c6dede4.dcm.zip to /content\n",
            "  0% 0.00/6.55M [00:00<?, ?B/s]\n",
            "100% 6.55M/6.55M [00:00<00:00, 58.2MB/s]\n",
            "Downloading ced40f593496.dcm.zip to /content\n",
            " 52% 7.00M/13.5M [00:00<00:00, 21.8MB/s]\n",
            "100% 13.5M/13.5M [00:00<00:00, 38.8MB/s]\n",
            "Downloading dbae9b9b9500.dcm.zip to /content\n",
            "  0% 0.00/930k [00:00<?, ?B/s]\n",
            "100% 930k/930k [00:00<00:00, 120MB/s]\n",
            "Downloading 951211f8e1bb.dcm.zip to /content\n",
            "  0% 0.00/5.10M [00:00<?, ?B/s]\n",
            "100% 5.10M/5.10M [00:00<00:00, 83.6MB/s]\n",
            "Downloading sample_submission.csv to /content\n",
            "  0% 0.00/87.0k [00:00<?, ?B/s]\n",
            "100% 87.0k/87.0k [00:00<00:00, 83.0MB/s]\n",
            "Downloading train_image_level.csv.zip to /content\n",
            "  0% 0.00/443k [00:00<?, ?B/s]\n",
            "100% 443k/443k [00:00<00:00, 24.5MB/s]\n",
            "Downloading train_study_level.csv to /content\n",
            "  0% 0.00/160k [00:00<?, ?B/s]\n",
            "100% 160k/160k [00:00<00:00, 53.8MB/s]\n"
          ],
          "name": "stdout"
        }
      ]
    },
    {
      "cell_type": "code",
      "metadata": {
        "colab": {
          "base_uri": "https://localhost:8080/",
          "height": 538
        },
        "id": "sZ2438CAgiNA",
        "outputId": "73ce790f-2498-43e2-f58f-bd1f9331c3b1"
      },
      "source": [
        "import pandas as pd\n",
        "df = pd.read_csv('train_image_level.csv')\n",
        "df"
      ],
      "execution_count": null,
      "outputs": [
        {
          "output_type": "execute_result",
          "data": {
            "text/html": [
              "<div>\n",
              "<style scoped>\n",
              "    .dataframe tbody tr th:only-of-type {\n",
              "        vertical-align: middle;\n",
              "    }\n",
              "\n",
              "    .dataframe tbody tr th {\n",
              "        vertical-align: top;\n",
              "    }\n",
              "\n",
              "    .dataframe thead th {\n",
              "        text-align: right;\n",
              "    }\n",
              "</style>\n",
              "<table border=\"1\" class=\"dataframe\">\n",
              "  <thead>\n",
              "    <tr style=\"text-align: right;\">\n",
              "      <th></th>\n",
              "      <th>id</th>\n",
              "      <th>boxes</th>\n",
              "      <th>label</th>\n",
              "      <th>StudyInstanceUID</th>\n",
              "    </tr>\n",
              "  </thead>\n",
              "  <tbody>\n",
              "    <tr>\n",
              "      <th>0</th>\n",
              "      <td>000a312787f2_image</td>\n",
              "      <td>[{'x': 789.28836, 'y': 582.43035, 'width': 102...</td>\n",
              "      <td>opacity 1 789.28836 582.43035 1815.94498 2499....</td>\n",
              "      <td>5776db0cec75</td>\n",
              "    </tr>\n",
              "    <tr>\n",
              "      <th>1</th>\n",
              "      <td>000c3a3f293f_image</td>\n",
              "      <td>NaN</td>\n",
              "      <td>none 1 0 0 1 1</td>\n",
              "      <td>ff0879eb20ed</td>\n",
              "    </tr>\n",
              "    <tr>\n",
              "      <th>2</th>\n",
              "      <td>0012ff7358bc_image</td>\n",
              "      <td>[{'x': 677.42216, 'y': 197.97662, 'width': 867...</td>\n",
              "      <td>opacity 1 677.42216 197.97662 1545.21983 1197....</td>\n",
              "      <td>9d514ce429a7</td>\n",
              "    </tr>\n",
              "    <tr>\n",
              "      <th>3</th>\n",
              "      <td>001398f4ff4f_image</td>\n",
              "      <td>[{'x': 2729, 'y': 2181.33331, 'width': 948.000...</td>\n",
              "      <td>opacity 1 2729 2181.33331 3677.00012 2785.33331</td>\n",
              "      <td>28dddc8559b2</td>\n",
              "    </tr>\n",
              "    <tr>\n",
              "      <th>4</th>\n",
              "      <td>001bd15d1891_image</td>\n",
              "      <td>[{'x': 623.23328, 'y': 1050, 'width': 714, 'he...</td>\n",
              "      <td>opacity 1 623.23328 1050 1337.23328 2156 opaci...</td>\n",
              "      <td>dfd9fdd85a3e</td>\n",
              "    </tr>\n",
              "    <tr>\n",
              "      <th>...</th>\n",
              "      <td>...</td>\n",
              "      <td>...</td>\n",
              "      <td>...</td>\n",
              "      <td>...</td>\n",
              "    </tr>\n",
              "    <tr>\n",
              "      <th>6329</th>\n",
              "      <td>ffcc6edd9445_image</td>\n",
              "      <td>NaN</td>\n",
              "      <td>none 1 0 0 1 1</td>\n",
              "      <td>7e6c68462e06</td>\n",
              "    </tr>\n",
              "    <tr>\n",
              "      <th>6330</th>\n",
              "      <td>ffd91a2c4ca0_image</td>\n",
              "      <td>NaN</td>\n",
              "      <td>none 1 0 0 1 1</td>\n",
              "      <td>8332bdaddb6e</td>\n",
              "    </tr>\n",
              "    <tr>\n",
              "      <th>6331</th>\n",
              "      <td>ffd9b6cf2961_image</td>\n",
              "      <td>[{'x': 2197.38566, 'y': 841.07361, 'width': 31...</td>\n",
              "      <td>opacity 1 2197.38566 841.07361 2513.80265 1292...</td>\n",
              "      <td>7eed9af03814</td>\n",
              "    </tr>\n",
              "    <tr>\n",
              "      <th>6332</th>\n",
              "      <td>ffdc682f7680_image</td>\n",
              "      <td>[{'x': 2729.27083, 'y': 332.26044, 'width': 14...</td>\n",
              "      <td>opacity 1 2729.27083 332.26044 4225.52099 2936...</td>\n",
              "      <td>a0cb0b96fb3d</td>\n",
              "    </tr>\n",
              "    <tr>\n",
              "      <th>6333</th>\n",
              "      <td>ffe942c8655f_image</td>\n",
              "      <td>[{'x': 208.86463, 'y': 91.53448, 'width': 450....</td>\n",
              "      <td>opacity 1 208.86463 91.53448 659.8321 719.5892...</td>\n",
              "      <td>7d82d53204b8</td>\n",
              "    </tr>\n",
              "  </tbody>\n",
              "</table>\n",
              "<p>6334 rows × 4 columns</p>\n",
              "</div>"
            ],
            "text/plain": [
              "                      id  ... StudyInstanceUID\n",
              "0     000a312787f2_image  ...     5776db0cec75\n",
              "1     000c3a3f293f_image  ...     ff0879eb20ed\n",
              "2     0012ff7358bc_image  ...     9d514ce429a7\n",
              "3     001398f4ff4f_image  ...     28dddc8559b2\n",
              "4     001bd15d1891_image  ...     dfd9fdd85a3e\n",
              "...                  ...  ...              ...\n",
              "6329  ffcc6edd9445_image  ...     7e6c68462e06\n",
              "6330  ffd91a2c4ca0_image  ...     8332bdaddb6e\n",
              "6331  ffd9b6cf2961_image  ...     7eed9af03814\n",
              "6332  ffdc682f7680_image  ...     a0cb0b96fb3d\n",
              "6333  ffe942c8655f_image  ...     7d82d53204b8\n",
              "\n",
              "[6334 rows x 4 columns]"
            ]
          },
          "metadata": {
            "tags": []
          },
          "execution_count": 10
        }
      ]
    },
    {
      "cell_type": "code",
      "metadata": {
        "colab": {
          "base_uri": "https://localhost:8080/"
        },
        "id": "NQ2sBNEvhCn9",
        "outputId": "8391880b-a1e5-4afe-aeaa-89fc808366ac"
      },
      "source": [
        "!unzip \\train_image_level.csv.zip"
      ],
      "execution_count": null,
      "outputs": [
        {
          "output_type": "stream",
          "text": [
            "Archive:  train_image_level.csv.zip\n",
            "  inflating: train_image_level.csv   \n"
          ],
          "name": "stdout"
        }
      ]
    },
    {
      "cell_type": "code",
      "metadata": {
        "id": "hJEmsxUqiMCA"
      },
      "source": [
        ""
      ],
      "execution_count": null,
      "outputs": []
    }
  ]
}